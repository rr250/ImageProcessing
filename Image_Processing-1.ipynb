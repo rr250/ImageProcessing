{
 "cells": [
  {
   "cell_type": "code",
   "execution_count": 1,
   "metadata": {},
   "outputs": [],
   "source": [
    "from matplotlib import pyplot as plt\n",
    "import cv2\n",
    "import os"
   ]
  },
  {
   "cell_type": "code",
   "execution_count": 2,
   "metadata": {},
   "outputs": [],
   "source": [
    "def load_images_from_folder(folder):\n",
    "    images = []\n",
    "    filenames = []\n",
    "    for filename in os.listdir(folder):\n",
    "        img = cv2.imread(os.path.join(folder,filename))\n",
    "        if img is not None:\n",
    "            images.append(img)\n",
    "            filenames.append(filename)\n",
    "    return images,filenames"
   ]
  },
  {
   "cell_type": "code",
   "execution_count": 3,
   "metadata": {},
   "outputs": [],
   "source": [
    "def draw_contours(img,filename,outpath):\n",
    "    imgray = cv2.cvtColor(img,cv2.COLOR_BGR2GRAY)\n",
    "    ret,thresh = cv2.threshold(imgray, 120,255,cv2.THRESH_BINARY)\n",
    "    contours, hierarchy = cv2.findContours(thresh,cv2.RETR_TREE,cv2.CHAIN_APPROX_SIMPLE)\n",
    "    c_img = cv2.drawContours(img, contours, -1, (0, 255, 0), 1)\n",
    "    path = os.path.join(outpath,filename)\n",
    "    if not os.path.exists(path):\n",
    "        os.makedirs(path)\n",
    "    for i in range(len(contours)):\n",
    "                            cnt = contours[i]\n",
    "                            x,y,w,h = cv2.boundingRect(cnt)\n",
    "                            sub_img = img[y:y+h,x:x+w]\n",
    "                            cv2.imwrite(os.path.join(os.path.expanduser('~'),'Desktop',outpath,filename,str(i)+'.jpg'), sub_img)\n",
    "    return c_img\n",
    "    "
   ]
  },
  {
   "cell_type": "code",
   "execution_count": 4,
   "metadata": {},
   "outputs": [],
   "source": [
    "def contours(images,filenames,outpath):\n",
    "    c_imgs=[]\n",
    "    i=0\n",
    "    for image in images:\n",
    "        c_img=draw_contours(image,filenames[i],outpath)\n",
    "        c_imgs.append(c_img)\n",
    "        i+=1\n",
    "    return c_imgs"
   ]
  },
  {
   "cell_type": "code",
   "execution_count": 5,
   "metadata": {},
   "outputs": [],
   "source": [
    "def save_images(output,imgs,filenames):\n",
    "    if not os.path.exists(output):\n",
    "        os.makedirs(output)\n",
    "    i=0\n",
    "    for img in imgs:\n",
    "        writeStatus=cv2.imwrite(os.path.join(os.path.expanduser('~'),'Desktop',output,filenames[i]+'.jpg'),img)\n",
    "        i+=1"
   ]
  },
  {
   "cell_type": "code",
   "execution_count": 6,
   "metadata": {},
   "outputs": [],
   "source": [
    "images=[]\n",
    "outpath='data1'\n",
    "images,filenames=load_images_from_folder('data')\n",
    "c_images=contours(images,filenames,outpath)\n",
    "save_images(outpath,c_images,filenames)"
   ]
  },
  {
   "cell_type": "code",
   "execution_count": null,
   "metadata": {},
   "outputs": [],
   "source": []
  }
 ],
 "metadata": {
  "kernelspec": {
   "display_name": "Python 3",
   "language": "python",
   "name": "python3"
  },
  "language_info": {
   "codemirror_mode": {
    "name": "ipython",
    "version": 3
   },
   "file_extension": ".py",
   "mimetype": "text/x-python",
   "name": "python",
   "nbconvert_exporter": "python",
   "pygments_lexer": "ipython3",
   "version": "3.7.3"
  }
 },
 "nbformat": 4,
 "nbformat_minor": 2
}
